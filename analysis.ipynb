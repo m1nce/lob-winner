{
 "cells": [
  {
   "cell_type": "code",
   "execution_count": 18,
   "id": "35a0b6b3",
   "metadata": {},
   "outputs": [
    {
     "name": "stdout",
     "output_type": "stream",
     "text": [
      "Connection successful!\n"
     ]
    },
    {
     "data": {
      "text/html": [
       "<div>\n",
       "<style scoped>\n",
       "    .dataframe tbody tr th:only-of-type {\n",
       "        vertical-align: middle;\n",
       "    }\n",
       "\n",
       "    .dataframe tbody tr th {\n",
       "        vertical-align: top;\n",
       "    }\n",
       "\n",
       "    .dataframe thead th {\n",
       "        text-align: right;\n",
       "    }\n",
       "</style>\n",
       "<table border=\"1\" class=\"dataframe\">\n",
       "  <thead>\n",
       "    <tr style=\"text-align: right;\">\n",
       "      <th></th>\n",
       "      <th>game_id</th>\n",
       "      <th>date</th>\n",
       "      <th>season</th>\n",
       "      <th>postseason</th>\n",
       "      <th>home_team_score</th>\n",
       "      <th>away_team_score</th>\n",
       "      <th>home_team_id</th>\n",
       "      <th>away_team_id</th>\n",
       "    </tr>\n",
       "  </thead>\n",
       "  <tbody>\n",
       "    <tr>\n",
       "      <th>0</th>\n",
       "      <td>1011169</td>\n",
       "      <td>2023-06-12</td>\n",
       "      <td>2022</td>\n",
       "      <td>True</td>\n",
       "      <td>94</td>\n",
       "      <td>89</td>\n",
       "      <td>8</td>\n",
       "      <td>16</td>\n",
       "    </tr>\n",
       "    <tr>\n",
       "      <th>1</th>\n",
       "      <td>1011168</td>\n",
       "      <td>2023-06-09</td>\n",
       "      <td>2022</td>\n",
       "      <td>True</td>\n",
       "      <td>95</td>\n",
       "      <td>108</td>\n",
       "      <td>16</td>\n",
       "      <td>8</td>\n",
       "    </tr>\n",
       "    <tr>\n",
       "      <th>2</th>\n",
       "      <td>1011167</td>\n",
       "      <td>2023-06-07</td>\n",
       "      <td>2022</td>\n",
       "      <td>True</td>\n",
       "      <td>94</td>\n",
       "      <td>109</td>\n",
       "      <td>16</td>\n",
       "      <td>8</td>\n",
       "    </tr>\n",
       "    <tr>\n",
       "      <th>3</th>\n",
       "      <td>1011166</td>\n",
       "      <td>2023-06-04</td>\n",
       "      <td>2022</td>\n",
       "      <td>True</td>\n",
       "      <td>108</td>\n",
       "      <td>111</td>\n",
       "      <td>8</td>\n",
       "      <td>16</td>\n",
       "    </tr>\n",
       "    <tr>\n",
       "      <th>4</th>\n",
       "      <td>1011165</td>\n",
       "      <td>2023-06-01</td>\n",
       "      <td>2022</td>\n",
       "      <td>True</td>\n",
       "      <td>104</td>\n",
       "      <td>93</td>\n",
       "      <td>8</td>\n",
       "      <td>16</td>\n",
       "    </tr>\n",
       "  </tbody>\n",
       "</table>\n",
       "</div>"
      ],
      "text/plain": [
       "   game_id        date  season  postseason  home_team_score  away_team_score  \\\n",
       "0  1011169  2023-06-12    2022        True               94               89   \n",
       "1  1011168  2023-06-09    2022        True               95              108   \n",
       "2  1011167  2023-06-07    2022        True               94              109   \n",
       "3  1011166  2023-06-04    2022        True              108              111   \n",
       "4  1011165  2023-06-01    2022        True              104               93   \n",
       "\n",
       "   home_team_id  away_team_id  \n",
       "0             8            16  \n",
       "1            16             8  \n",
       "2            16             8  \n",
       "3             8            16  \n",
       "4             8            16  "
      ]
     },
     "execution_count": 18,
     "metadata": {},
     "output_type": "execute_result"
    }
   ],
   "source": [
    "from sqlalchemy import create_engine\n",
    "import pandas as pd\n",
    "import os\n",
    "from dotenv import load_dotenv\n",
    "\n",
    "load_dotenv()\n",
    "\n",
    "username = os.getenv('DB_USER')\n",
    "password = os.getenv('DB_PASS')\n",
    "host = os.getenv('DB_HOST')\n",
    "port = os.getenv('DB_PORT')\n",
    "dbname = 'nba_stats'\n",
    "\n",
    "# Create an engine instance\n",
    "engine = create_engine(f'postgresql+psycopg2://{username}:{password}@{host}:{port}/{dbname}')\n",
    "\n",
    "# Test the connection\n",
    "with engine.connect() as connection:\n",
    "    result = connection.execute(\"SELECT 1\")\n",
    "    if result.fetchone()[0] == 1:\n",
    "        print(\"Connection successful!\")\n",
    "    else:\n",
    "        print(\"Connection unsuccessful.\")\n",
    "    \n",
    "# Query the database\n",
    "query = \"\"\"\n",
    "SELECT * \n",
    "FROM game\n",
    "WHERE date BETWEEN '2022-10-17' AND '2023-06-13'\n",
    "ORDER BY date DESC;\n",
    "\"\"\"\n",
    "\n",
    "df = pd.read_sql(query, engine)\n",
    "\n",
    "df.head()"
   ]
  },
  {
   "cell_type": "markdown",
   "id": "89019796",
   "metadata": {},
   "source": [
    "## Goal: Predicting MVPs in the NBA!"
   ]
  },
  {
   "cell_type": "code",
   "execution_count": 26,
   "id": "999c1d76",
   "metadata": {},
   "outputs": [
    {
     "data": {
      "text/plain": [
       "array([ 858389,  857882,  857379, ..., 1007820, 1007824, 1007826])"
      ]
     },
     "execution_count": 26,
     "metadata": {},
     "output_type": "execute_result"
    }
   ],
   "source": [
    "query = \"\"\"\n",
    "SELECT game_id\n",
    "FROM game\n",
    "WHERE date BETWEEN '2022-10-17' AND '2023-06-13';\n",
    "\"\"\"\n",
    "\n",
    "season_22_gameID = pd.read_sql(query, engine).to_numpy().flatten()\n",
    "season_22_gameID"
   ]
  },
  {
   "cell_type": "code",
   "execution_count": null,
   "id": "5cc6be7f",
   "metadata": {},
   "outputs": [],
   "source": []
  }
 ],
 "metadata": {
  "kernelspec": {
   "display_name": "Python 3 (ipykernel)",
   "language": "python",
   "name": "python3"
  },
  "language_info": {
   "codemirror_mode": {
    "name": "ipython",
    "version": 3
   },
   "file_extension": ".py",
   "mimetype": "text/x-python",
   "name": "python",
   "nbconvert_exporter": "python",
   "pygments_lexer": "ipython3",
   "version": "3.10.13"
  }
 },
 "nbformat": 4,
 "nbformat_minor": 5
}
